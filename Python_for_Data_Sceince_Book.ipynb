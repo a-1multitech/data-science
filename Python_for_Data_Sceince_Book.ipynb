{
 "cells": [
  {
   "cell_type": "markdown",
   "id": "4ee306f5-dc18-46a8-9270-ad6193a891f2",
   "metadata": {},
   "source": [
    "# Chapter-01"
   ]
  },
  {
   "cell_type": "code",
   "execution_count": 9,
   "id": "00e0a377",
   "metadata": {},
   "outputs": [
    {
     "name": "stdout",
     "output_type": "stream",
     "text": [
      "Hello world!!\n"
     ]
    }
   ],
   "source": [
    "print(\"Hello world!!\")"
   ]
  },
  {
   "cell_type": "code",
   "execution_count": 1,
   "id": "b3ec00e1",
   "metadata": {},
   "outputs": [],
   "source": [
    "import numpy as np\n",
    "import datetime as dt"
   ]
  },
  {
   "cell_type": "code",
   "execution_count": 11,
   "id": "c58aa1b4-bf5e-4f98-98d4-ea0851c45dd9",
   "metadata": {},
   "outputs": [],
   "source": []
  },
  {
   "cell_type": "code",
   "execution_count": null,
   "id": "1cd002b5-16cc-49dc-b065-a0666ebe43d2",
   "metadata": {},
   "outputs": [],
   "source": []
  },
  {
   "cell_type": "markdown",
   "id": "39e703b8-68f3-42cc-8e99-aecc187bb3cd",
   "metadata": {},
   "source": [
    "## Dictionary Comprehension"
   ]
  },
  {
   "cell_type": "code",
   "execution_count": 12,
   "id": "520af812",
   "metadata": {},
   "outputs": [],
   "source": [
    "data = {i : np.random.randn() for i in range(7)}"
   ]
  },
  {
   "cell_type": "code",
   "execution_count": 13,
   "id": "0d089bb2",
   "metadata": {},
   "outputs": [
    {
     "name": "stdout",
     "output_type": "stream",
     "text": [
      "{0: 0.5568127413500139, 1: 0.5895754068039281, 2: -0.01058362954548688, 3: 0.6853824136891877, 4: -0.829659341180153, 5: 0.5811366100243035, 6: -1.589203337579184}\n"
     ]
    }
   ],
   "source": [
    "print(data)"
   ]
  },
  {
   "cell_type": "code",
   "execution_count": 14,
   "id": "ada6be61",
   "metadata": {},
   "outputs": [
    {
     "data": {
      "text/plain": [
       "{0: 0.5568127413500139,\n",
       " 1: 0.5895754068039281,\n",
       " 2: -0.01058362954548688,\n",
       " 3: 0.6853824136891877,\n",
       " 4: -0.829659341180153,\n",
       " 5: 0.5811366100243035,\n",
       " 6: -1.589203337579184}"
      ]
     },
     "execution_count": 14,
     "metadata": {},
     "output_type": "execute_result"
    }
   ],
   "source": [
    "data"
   ]
  },
  {
   "cell_type": "markdown",
   "id": "a284ac58-de93-45e4-bc59-37011c358b12",
   "metadata": {
    "tags": []
   },
   "source": [
    "## List Comprehension"
   ]
  },
  {
   "cell_type": "code",
   "execution_count": 15,
   "id": "0956998d-365a-4451-9e6e-5b79b5faf442",
   "metadata": {},
   "outputs": [],
   "source": [
    "data = [np.random.randn() for i in range(7)]"
   ]
  },
  {
   "cell_type": "code",
   "execution_count": 16,
   "id": "728f37ce-c455-4c92-887f-4408bb3a2d2d",
   "metadata": {},
   "outputs": [
    {
     "data": {
      "text/plain": [
       "[0.6599899746752685,\n",
       " 0.022859987857189495,\n",
       " -0.7821720453640745,\n",
       " -0.5893769503627685,\n",
       " 0.14238170804874628,\n",
       " 0.4889032302186112,\n",
       " 0.3150438820352715]"
      ]
     },
     "execution_count": 16,
     "metadata": {},
     "output_type": "execute_result"
    }
   ],
   "source": [
    "data"
   ]
  },
  {
   "cell_type": "markdown",
   "id": "dbeff76a-433a-49c9-b83b-bc83a160f545",
   "metadata": {},
   "source": [
    "## Using datetime Module"
   ]
  },
  {
   "cell_type": "code",
   "execution_count": 33,
   "id": "60a2edf2-b83e-4ce7-90b3-c38b2bc56a43",
   "metadata": {},
   "outputs": [],
   "source": [
    "now=dt.datetime.now()"
   ]
  },
  {
   "cell_type": "code",
   "execution_count": 34,
   "id": "bcab71d3-0bcc-4ced-9330-806b55b4ec80",
   "metadata": {},
   "outputs": [
    {
     "data": {
      "text/plain": [
       "datetime.datetime(2023, 4, 14, 10, 29, 55, 105754)"
      ]
     },
     "execution_count": 34,
     "metadata": {},
     "output_type": "execute_result"
    }
   ],
   "source": [
    "now"
   ]
  },
  {
   "cell_type": "markdown",
   "id": "aecec32e-3248-414d-ba08-e1b8f2572d50",
   "metadata": {},
   "source": [
    "# BITS Python Session - 15/04/2023 by Prof Parthasarthy"
   ]
  },
  {
   "cell_type": "code",
   "execution_count": null,
   "id": "5432198b-71b1-43f0-a1ff-b101f7ac737f",
   "metadata": {},
   "outputs": [],
   "source": []
  }
 ],
 "metadata": {
  "kernelspec": {
   "display_name": "Python 3",
   "language": "python",
   "name": "python3"
  },
  "language_info": {
   "codemirror_mode": {
    "name": "ipython",
    "version": 3
   },
   "file_extension": ".py",
   "mimetype": "text/x-python",
   "name": "python",
   "nbconvert_exporter": "python",
   "pygments_lexer": "ipython3",
   "version": "3.9.4"
  }
 },
 "nbformat": 4,
 "nbformat_minor": 5
}
